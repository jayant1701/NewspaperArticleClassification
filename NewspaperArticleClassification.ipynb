{
 "cells": [
  {
   "cell_type": "code",
   "execution_count": 1,
   "metadata": {},
   "outputs": [],
   "source": [
    "import os\n",
    "from os import listdir\n",
    "import numpy as np"
   ]
  },
  {
   "cell_type": "code",
   "execution_count": 2,
   "metadata": {},
   "outputs": [],
   "source": [
    "#importing stop words\n",
    "from nltk.corpus import stopwords\n",
    "stops=set(stopwords.words(\"english\"))\n",
    "import string\n",
    "punctuations=list(string.punctuation)\n",
    "stops.update(punctuations)\n",
    "stops.update(set([\"\"]))"
   ]
  },
  {
   "cell_type": "code",
   "execution_count": 3,
   "metadata": {},
   "outputs": [],
   "source": [
    "#this function extracts data from folder\n",
    "def documentsO():\n",
    "    doc=[]\n",
    "    #path of folder\n",
    "    my_path=r\"D:\\\\ML\\\\text_prediction\\\\20_newsgroups\"\n",
    "    #gives lis of all the folder in the main folder\n",
    "    folders=os.listdir(my_path)\n",
    "    n=len(folders)\n",
    "    \n",
    "    #iterating over all the folders in main folder\n",
    "    for i in range(n):\n",
    "        #path of current folder\n",
    "        new_path=my_path+\"\\\\\"+folders[i]\n",
    "        f=os.listdir(new_path)\n",
    "        m=len(f)\n",
    "        #iteration over all the files in current folder\n",
    "        for j in range(m):\n",
    "            #current file path\n",
    "            k=new_path+\"\\\\\"+f[j]\n",
    "            file=open(k,\"r\")\n",
    "            a=file.read().strip().split(\"\\n\")\n",
    "            \n",
    "            # obj[0] stores the category while obj[1] stores text\n",
    "            obj=[folders[i],a]\n",
    "            doc.append(obj)\n",
    "            \n",
    "    return doc"
   ]
  },
  {
   "cell_type": "code",
   "execution_count": 4,
   "metadata": {},
   "outputs": [],
   "source": [
    "#this function refine word\n",
    "# special_symbols=[\"!\",\"@\",\"#\",\"$\",\"%\",\"^\",\"&\",\"*\",\"(\",\")\",\"_\",\"-\",\"=\",\"+\",\"{\",\"}\",\"|\",\"\\\\\",\"<\",\">\"]\n",
    "def refine(word):\n",
    "    #getting rid of all the spaces and punctuations in front and end\n",
    "    word.strip()\n",
    "    for i in punctuations:\n",
    "        word.strip(i)\n",
    "    #checking if word fall in stop words\n",
    "    if(word.lower() in stops):\n",
    "        return np.nan\n",
    "    return word\n",
    "    \n",
    "    \n",
    "#this functions takes input of sentences and return refined words\n",
    "def convert_to_words(sentences):\n",
    "    \n",
    "    #convert sentences into a list of words\n",
    "    raw_words=sentences.split(\" \")\n",
    "    words=[]\n",
    "    #refining each word in the sentence\n",
    "    for raw_word in raw_words:\n",
    "        word=refine(raw_word)\n",
    "        if not (word==np.nan):\n",
    "            words.append(word)\n",
    "    return words\n",
    "\n",
    "#this function takes one doc as an input ans returns its words and category(y)\n",
    "def process_on_doc(doc):\n",
    "    words=[]\n",
    "    y=doc[0]\n",
    "    \n",
    "    #iterationg over all the sentences in the doc\n",
    "    for sentences in doc[1]:\n",
    "        words.extend(convert_to_words(sentences))\n",
    "        \n",
    "    return words,y"
   ]
  },
  {
   "cell_type": "code",
   "execution_count": 5,
   "metadata": {},
   "outputs": [],
   "source": [
    "#this function returns top 3000 words\n",
    "def extract_features(features):\n",
    "    features=[k for k,v in sorted(features.items() ,key=lambda item:item[1],reverse=True)]\n",
    "    i=features.index(np.nan)\n",
    "    del features[i]\n",
    "    #tried with top 3000,5000,10000,120000,20000,250000..... 120000 gave competent accuracy to 20000 and 25000 but run time was decreased\n",
    "    features=features[:12000]\n",
    "    return features\n",
    "\n",
    "#this function takes in words of one doc and covert it into data that we will finally be using\n",
    "def count_of_features(data,features):\n",
    "    x=np.zeros(len(features))\n",
    "    \n",
    "    #iterarte over all the features and store count\n",
    "    for i in range(len(features)):\n",
    "        x[i]=data.count(features[i])\n",
    "    return x\n",
    "\n",
    "#takes raw_data of all the docs and convert it into dataframe that we will be using\n",
    "def make_data(raw_data,features):\n",
    "    x=[]\n",
    "    for data in raw_data:\n",
    "        x.append(count_of_features(data,features))\n",
    "    return x"
   ]
  },
  {
   "cell_type": "code",
   "execution_count": 6,
   "metadata": {},
   "outputs": [],
   "source": [
    "import random\n",
    "#spilts our data into training and testing\n",
    "def split(docs): \n",
    "    random.shuffle(docs)\n",
    "    i=len(docs)\n",
    "    i=int(i*0.75)\n",
    "    docs_train=docs[:i:]\n",
    "    docs_test=docs[i::]\n",
    "    return docs_train,docs_test"
   ]
  },
  {
   "cell_type": "code",
   "execution_count": 7,
   "metadata": {},
   "outputs": [],
   "source": [
    "#we use this function to make transform data into usable form \n",
    "def data_extraction_training(docs):\n",
    "    #raw_x is a list where each element of list is another list which stores the words in a document,we will use it later to count\n",
    "    raw_x=[]\n",
    "    #output\n",
    "    y=[]\n",
    "    #dictionary of words as keys and their total frequency in all docs as keys\n",
    "    features={}\n",
    "    for doc in docs:\n",
    "        #returns words and category of a doc respectively\n",
    "        a,b=process_on_doc(doc)\n",
    "        raw_x.append(a)\n",
    "        #updating features\n",
    "        for word in a:\n",
    "            if word!=np.nan:\n",
    "                if not word in features:        \n",
    "                    features[word] = a.count(word)\n",
    "                else:\n",
    "                    features[word] +=a.count(word)\n",
    "        y.append(b)\n",
    "    #we use this function to get list of top k features        \n",
    "    features=extract_features(features)\n",
    "    #we convert our data in usable form\n",
    "    x=make_data(raw_x,features)\n",
    "    return np.array(x),np.array(y),features\n",
    "\n",
    "def make_dictionary_for_faster_processing(x,y,features):\n",
    "    possible_y=set(y)\n",
    "    #our dictionary has category as keys and another dictionary as values.The other dictionary stores docs as keys and frequency of \n",
    "    #features as word and total_words in all the documents in that cateogory as key value pair\n",
    "    dictionary={}\n",
    "    for i in possible_y:\n",
    "        current_class={}\n",
    "        xi=x[y==i,:]\n",
    "        j=0\n",
    "        n=len(features)\n",
    "        for j in range(n):\n",
    "            current_class[features[j]]=xi[:,j].sum()\n",
    "        dictionary[i]=current_class\n",
    "        dictionary[i][\"total_words\"]=sum(dictionary[i].values())\n",
    "    return dictionary"
   ]
  },
  {
   "cell_type": "code",
   "execution_count": 20,
   "metadata": {},
   "outputs": [],
   "source": [
    "#we use fit to make dictionary\n",
    "def fit(x_train,y_train,features):\n",
    "    dictionary=make_dictionary_for_faster_processing(x_train,y_train,features)\n",
    "    return dictionary\n",
    "\n",
    "#this function finds proabability of a word in a certain category .Laplace correction has been done as well\n",
    "def probability_of_word(word,dictionary,i):\n",
    "    numerator=1\n",
    "    denominator=len(dictionary)+dictionary[i][\"total_words\"]\n",
    "    if word in dictionary[i].keys():\n",
    "        numerator+=dictionary[i][word]\n",
    "    prob=np.log(numerator)-np.log(denominator)\n",
    "    return prob\n",
    "\n",
    "#this function predicts the cateogory of given document\n",
    "def predict_doc_type(doc,dictionary):\n",
    "    y_pred=\"first_time\"\n",
    "    y_prob=-1\n",
    "    #we obtain the category of doc and testing data\n",
    "    useful_data,y_test=process_on_doc(doc)\n",
    "    possible_y=set(dictionary.keys())\n",
    "    for i in possible_y:\n",
    "        current_prob=0\n",
    "        for j in useful_data:\n",
    "            current_prob+=probability_of_word(j,dictionary,i)\n",
    "            #we want maximum probabiluty and also we are using logarithmic probabilities\n",
    "        if current_prob>y_prob or y_pred==\"first_time\":\n",
    "            y_pred=i\n",
    "            y_prob=current_prob\n",
    "    #returns given category i.e. true category and predicted category\n",
    "    return y_test,y_pred\n",
    "\n",
    "def predict(docs,dictionary):\n",
    "    y_test=[]\n",
    "    y_pred=[]\n",
    "    for doc in docs:\n",
    "        a,b=predict_doc_type(doc,dictionary)\n",
    "        y_test.append(a)\n",
    "        y_pred.append(b)\n",
    "    return np.array(y_test),np.array(y_pred) "
   ]
  },
  {
   "cell_type": "code",
   "execution_count": 9,
   "metadata": {},
   "outputs": [],
   "source": [
    "#we get documents function defined above\n",
    "docs=documentsO()"
   ]
  },
  {
   "cell_type": "code",
   "execution_count": 10,
   "metadata": {},
   "outputs": [],
   "source": [
    "#split our data into training and testing\n",
    "docs_train,docs_test=split(docs)"
   ]
  },
  {
   "cell_type": "code",
   "execution_count": 11,
   "metadata": {},
   "outputs": [],
   "source": [
    "x_train,y_train,features=data_extraction_training(docs_train)"
   ]
  },
  {
   "cell_type": "code",
   "execution_count": 12,
   "metadata": {},
   "outputs": [],
   "source": [
    "dictionary=make_dictionary_for_faster_processing(x_train,y_train,features)"
   ]
  },
  {
   "cell_type": "code",
   "execution_count": 21,
   "metadata": {},
   "outputs": [],
   "source": [
    "y_test,y_pred=predict(docs_test,dictionary)"
   ]
  },
  {
   "cell_type": "code",
   "execution_count": 22,
   "metadata": {},
   "outputs": [
    {
     "name": "stdout",
     "output_type": "stream",
     "text": [
      "                          precision    recall  f1-score   support\n",
      "\n",
      "             alt.atheism       0.73      0.24      0.37       234\n",
      "           comp.graphics       0.86      0.10      0.19       239\n",
      " comp.os.ms-windows.misc       0.69      0.72      0.70       240\n",
      "comp.sys.ibm.pc.hardware       0.84      0.72      0.78       250\n",
      "   comp.sys.mac.hardware       0.46      0.92      0.61       244\n",
      "          comp.windows.x       1.00      0.08      0.14       222\n",
      "            misc.forsale       0.22      0.99      0.36       245\n",
      "               rec.autos       0.93      0.61      0.74       260\n",
      "         rec.motorcycles       0.14      0.96      0.25       263\n",
      "      rec.sport.baseball       0.79      0.81      0.80       273\n",
      "        rec.sport.hockey       0.98      0.17      0.29       242\n",
      "               sci.crypt       1.00      0.14      0.24       244\n",
      "         sci.electronics       0.82      0.61      0.70       248\n",
      "                 sci.med       1.00      0.22      0.36       241\n",
      "               sci.space       1.00      0.31      0.48       252\n",
      "  soc.religion.christian       1.00      0.29      0.45       262\n",
      "      talk.politics.guns       0.79      0.12      0.21       261\n",
      "   talk.politics.mideast       1.00      0.04      0.07       267\n",
      "      talk.politics.misc       1.00      0.02      0.03       257\n",
      "      talk.religion.misc       0.64      0.15      0.24       256\n",
      "\n",
      "                accuracy                           0.41      5000\n",
      "               macro avg       0.79      0.41      0.40      5000\n",
      "            weighted avg       0.79      0.41      0.40      5000\n",
      "\n"
     ]
    }
   ],
   "source": [
    "from sklearn.metrics import classification_report\n",
    "print(classification_report(y_test,y_pred))"
   ]
  },
  {
   "cell_type": "code",
   "execution_count": 15,
   "metadata": {},
   "outputs": [],
   "source": [
    "    raw_x_test=[]\n",
    "    y_test=[]\n",
    "    for doc in docs_test:\n",
    "        a,b=process_on_doc(doc)\n",
    "        raw_x_test.append(a)\n",
    "        y_test.append(b)\n",
    "            \n",
    "    x_test=make_data(raw_x_test,features)\n",
    "    "
   ]
  },
  {
   "cell_type": "code",
   "execution_count": 16,
   "metadata": {},
   "outputs": [],
   "source": [
    "from sklearn.naive_bayes import MultinomialNB\n",
    "clf=MultinomialNB()\n",
    "clf.fit(x_train,y_train)\n",
    "y_pred_NB=clf.predict(x_test)"
   ]
  },
  {
   "cell_type": "code",
   "execution_count": 17,
   "metadata": {},
   "outputs": [
    {
     "name": "stdout",
     "output_type": "stream",
     "text": [
      "                          precision    recall  f1-score   support\n",
      "\n",
      "             alt.atheism       0.74      0.87      0.80       234\n",
      "           comp.graphics       0.85      0.82      0.83       239\n",
      " comp.os.ms-windows.misc       0.84      0.88      0.86       240\n",
      "comp.sys.ibm.pc.hardware       0.81      0.89      0.85       250\n",
      "   comp.sys.mac.hardware       0.85      0.93      0.89       244\n",
      "          comp.windows.x       0.93      0.87      0.90       222\n",
      "            misc.forsale       0.81      0.87      0.83       245\n",
      "               rec.autos       0.91      0.90      0.91       260\n",
      "         rec.motorcycles       0.93      0.96      0.94       263\n",
      "      rec.sport.baseball       0.98      0.95      0.97       273\n",
      "        rec.sport.hockey       0.96      0.98      0.97       242\n",
      "               sci.crypt       0.97      0.93      0.95       244\n",
      "         sci.electronics       0.87      0.90      0.88       248\n",
      "                 sci.med       0.97      0.92      0.94       241\n",
      "               sci.space       0.96      0.96      0.96       252\n",
      "  soc.religion.christian       0.94      0.99      0.96       262\n",
      "      talk.politics.guns       0.76      0.92      0.83       261\n",
      "   talk.politics.mideast       0.93      0.87      0.90       267\n",
      "      talk.politics.misc       0.83      0.61      0.70       257\n",
      "      talk.religion.misc       0.66      0.48      0.56       256\n",
      "\n",
      "                accuracy                           0.88      5000\n",
      "               macro avg       0.88      0.88      0.87      5000\n",
      "            weighted avg       0.88      0.88      0.87      5000\n",
      "\n"
     ]
    }
   ],
   "source": [
    "print(classification_report(y_test,y_pred_NB))"
   ]
  },
  {
   "cell_type": "code",
   "execution_count": null,
   "metadata": {},
   "outputs": [],
   "source": [
    "#make changes 12000 to your desrired number of features in extract features function. "
   ]
  },
  {
   "cell_type": "code",
   "execution_count": null,
   "metadata": {},
   "outputs": [],
   "source": []
  },
  {
   "cell_type": "code",
   "execution_count": null,
   "metadata": {},
   "outputs": [],
   "source": []
  }
 ],
 "metadata": {
  "kernelspec": {
   "display_name": "Python 3",
   "language": "python",
   "name": "python3"
  },
  "language_info": {
   "codemirror_mode": {
    "name": "ipython",
    "version": 3
   },
   "file_extension": ".py",
   "mimetype": "text/x-python",
   "name": "python",
   "nbconvert_exporter": "python",
   "pygments_lexer": "ipython3",
   "version": "3.7.6"
  }
 },
 "nbformat": 4,
 "nbformat_minor": 4
}
